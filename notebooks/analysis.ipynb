{
  "cells": [
    {
      "cell_type": "markdown",
      "metadata": {},
      "source": [
        "# Mortgage Amortization Analysis\n",
        "\n",
        "This notebook provides an interactive environment for analyzing mortgage options with comprehensive visualizations.\n",
        "\n",
        "## Features:\n",
        "- Compare different loan terms and interest rates\n",
        "- Generate detailed amortization tables\n",
        "- Create interactive visualizations\n",
        "- Export results for further analysis\n"
      ]
    },
    {
      "cell_type": "code",
      "execution_count": null,
      "metadata": {},
      "outputs": [],
      "source": [
        "import sys\n",
        "import os\n",
        "sys.path.append('../src')\n",
        "\n",
        "from mortgage_calculator import MortgageCalculator, MortgageComparison\n",
        "from visualizations import MortgageVisualizer\n",
        "import pandas as pd\n",
        "import matplotlib.pyplot as plt\n",
        "import numpy as np\n",
        "\n",
        "# Set up plotting\n",
        "plt.style.use('seaborn-v0_8')\n",
        "plt.rcParams['figure.figsize'] = (12, 8)\n",
        "\n",
        "print(\"✅ All modules imported successfully!\")\n",
        "print(\"📊 Ready for mortgage analysis\")\n"
      ]
    },
    {
      "cell_type": "markdown",
      "metadata": {},
      "source": [
        "## 1. Basic Loan Analysis\n",
        "\n",
        "Let's start by analyzing a single mortgage option.\n"
      ]
    },
    {
      "cell_type": "code",
      "execution_count": null,
      "metadata": {},
      "outputs": [],
      "source": [
        "# Create a 30-year mortgage calculator\n",
        "principal = 500000\n",
        "annual_rate = 0.065  # 6.5%\n",
        "years = 30\n",
        "\n",
        "loan = MortgageCalculator(principal, annual_rate, years, \"30-Year @ 6.5%\")\n",
        "\n",
        "# Generate amortization table\n",
        "amortization_table = loan.generate_amortization_table()\n",
        "\n",
        "# Get loan summary\n",
        "summary = loan.get_loan_summary()\n",
        "\n",
        "print(\"🏠 Loan Summary:\")\n",
        "print(f\"Principal: ${summary['principal']:,.2f}\")\n",
        "print(f\"Interest Rate: {summary['annual_rate']*100:.2f}%\")\n",
        "print(f\"Term: {summary['years']} years\")\n",
        "print(f\"Monthly Payment: ${summary['monthly_payment']:,.2f}\")\n",
        "print(f\"Total Paid: ${summary['total_paid']:,.2f}\")\n",
        "print(f\"Total Interest: ${summary['total_interest']:,.2f}\")\n",
        "print(f\"Interest as % of Total: {summary['interest_percentage']:.1f}%\")\n"
      ]
    }
  ],
  "metadata": {
    "language_info": {
      "name": "python"
    }
  },
  "nbformat": 4,
  "nbformat_minor": 2
}
